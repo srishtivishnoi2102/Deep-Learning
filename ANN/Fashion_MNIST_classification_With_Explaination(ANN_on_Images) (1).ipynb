{
  "nbformat": 4,
  "nbformat_minor": 0,
  "metadata": {
    "colab": {
      "name": "Fashion_MNIST_classification_With_Explaination(ANN on Images).ipynb",
      "provenance": [],
      "collapsed_sections": []
    },
    "kernelspec": {
      "name": "python3",
      "display_name": "Python 3"
    },
    "accelerator": "GPU"
  },
  "cells": [
    {
      "cell_type": "markdown",
      "metadata": {
        "id": "O6MAzDQYdVRD",
        "colab_type": "text"
      },
      "source": [
        "# OBJECTIVE:\n",
        "## To build and train a neural network to classify images of fashion clothing, like sneakers and shirts.\n",
        "### Importing the Libraries"
      ]
    },
    {
      "cell_type": "code",
      "metadata": {
        "id": "NNadReWBv0AS",
        "colab_type": "code",
        "colab": {}
      },
      "source": [
        ""
      ],
      "execution_count": 0,
      "outputs": []
    },
    {
      "cell_type": "code",
      "metadata": {
        "id": "JWOjzcyLJHax",
        "colab_type": "code",
        "outputId": "1123d43d-a82b-4b19-e0d4-7d9226e12d9e",
        "colab": {
          "base_uri": "https://localhost:8080/",
          "height": 34
        }
      },
      "source": [
        "import numpy as np\n",
        "import pandas as pd\n",
        "import matplotlib.pyplot as plt\n",
        "from IPython.display import clear_output\n",
        "import tensorflow as tf\n",
        "import random\n",
        "from keras.datasets import fashion_mnist"
      ],
      "execution_count": 0,
      "outputs": [
        {
          "output_type": "stream",
          "text": [
            "Using TensorFlow backend.\n"
          ],
          "name": "stderr"
        }
      ]
    },
    {
      "cell_type": "markdown",
      "metadata": {
        "id": "lgZ7K-6Ad6Jv",
        "colab_type": "text"
      },
      "source": [
        "### Loading the dataset"
      ]
    },
    {
      "cell_type": "markdown",
      "metadata": {
        "id": "KgzyWAu8eTsY",
        "colab_type": "text"
      },
      "source": [
        "Fashion MNIST dataset, which contains 70,000 grayscale images in 10 categories. The images show individual articles of clothing at a resolution of 28×28 pixels.\n",
        "60000 images for training and rest 10000 for testing"
      ]
    },
    {
      "cell_type": "code",
      "metadata": {
        "id": "NcoDem97aDa2",
        "colab_type": "code",
        "colab": {}
      },
      "source": [
        "(x_train, y_train), (x_test, y_test) = fashion_mnist.load_data()"
      ],
      "execution_count": 0,
      "outputs": []
    },
    {
      "cell_type": "code",
      "metadata": {
        "id": "-ggPLaJUaQkP",
        "colab_type": "code",
        "outputId": "c30535a7-c0b8-48eb-a9f3-02a8d5df98e9",
        "colab": {
          "base_uri": "https://localhost:8080/",
          "height": 286
        }
      },
      "source": [
        "plt.imshow(x_train[9])"
      ],
      "execution_count": 0,
      "outputs": [
        {
          "output_type": "execute_result",
          "data": {
            "text/plain": [
              "<matplotlib.image.AxesImage at 0x7f47a42e0fd0>"
            ]
          },
          "metadata": {
            "tags": []
          },
          "execution_count": 71
        },
        {
          "output_type": "display_data",
          "data": {
            "image/png": "[encoded data removed]",
            "text/plain": [
              "<Figure size 432x288 with 1 Axes>"
            ]
          },
          "metadata": {
            "tags": []
          }
        }
      ]
    },
    {
      "cell_type": "code",
      "metadata": {
        "id": "PjdMRSZjaYRd",
        "colab_type": "code",
        "outputId": "78cd2a67-5fc9-4699-b518-9c65c8be6758",
        "colab": {
          "base_uri": "https://localhost:8080/",
          "height": 34
        }
      },
      "source": [
        "x_train[9].shape"
      ],
      "execution_count": 0,
      "outputs": [
        {
          "output_type": "execute_result",
          "data": {
            "text/plain": [
              "(28, 28)"
            ]
          },
          "metadata": {
            "tags": []
          },
          "execution_count": 72
        }
      ]
    },
    {
      "cell_type": "markdown",
      "metadata": {
        "id": "raoPVVajeKb8",
        "colab_type": "text"
      },
      "source": [
        "Each imageis of shape (28,28), with pixel values in the range [0, 255]. The labels are an array of integers, in the range [0, 9]. These correspond to the class of clothing the image represents:"
      ]
    },
    {
      "cell_type": "code",
      "metadata": {
        "id": "QgBXCsA9btl6",
        "colab_type": "code",
        "colab": {}
      },
      "source": [
        "class_names = ['Top', 'Trouser', 'Pullover', 'Dress', 'Coat', 'Sandal','Shirt', 'Sneaker', 'Bag','Ankle boot']"
      ],
      "execution_count": 0,
      "outputs": []
    },
    {
      "cell_type": "markdown",
      "metadata": {
        "id": "NjUoSCwqfYmD",
        "colab_type": "text"
      },
      "source": [
        "## Preprocess the data\n",
        "### Data Normalisation\n",
        "The value of each pixel in the image data is an integer in the range `[0,255]`. For the model to work properly, these values need to be normalized to the range `[0,1]`. So here divide each pixel intensity by 255 to get the pixel in range `[0,1]`."
      ]
    },
    {
      "cell_type": "code",
      "metadata": {
        "id": "BxOCLGg9fsjA",
        "colab_type": "code",
        "colab": {}
      },
      "source": [
        "x_train = x_train.astype('float')\n",
        "x_train /= 255\n",
        "x_test = x_test.astype('float')\n",
        "x_test /= 255\n"
      ],
      "execution_count": 0,
      "outputs": []
    },
    {
      "cell_type": "markdown",
      "metadata": {
        "id": "KRCOlnmkIyfo",
        "colab_type": "text"
      },
      "source": [
        "### Flattening\n",
        "Converting each image from 2D matrix of shape(28,28) into a tow vector of (1,784)"
      ]
    },
    {
      "cell_type": "code",
      "metadata": {
        "id": "bovCCya-IxQl",
        "colab_type": "code",
        "colab": {}
      },
      "source": [
        "x_train=x_train.reshape(len(x_train),28*28)\n",
        "x_test=x_test.reshape(len(x_test),28*28)\n"
      ],
      "execution_count": 0,
      "outputs": []
    },
    {
      "cell_type": "markdown",
      "metadata": {
        "id": "i62ZOw--Lo4v",
        "colab_type": "text"
      },
      "source": [
        "## One Hot Encoding\n",
        "*One hot encoding is a process by which categorical variables are converted into a form that could be provided to ML algorithms to do a better job in prediction.*\n",
        "\n",
        "Since our target variable(y_train and y_test) are categorical variables, so we will one hot encode the them."
      ]
    },
    {
      "cell_type": "code",
      "metadata": {
        "id": "Kj3l1-MHMaJn",
        "colab_type": "code",
        "outputId": "e8495c7d-2cf6-4ae3-e3c6-cdee57528a2e",
        "colab": {
          "base_uri": "https://localhost:8080/",
          "height": 187
        }
      },
      "source": [
        "one_hot_vectors=np.eye(len(np.unique(y_train)))\n",
        "\n",
        "for i in range(len(one_hot_vectors)):\n",
        "  print(i,\" is represented as :  \" ,one_hot_vectors[i] )"
      ],
      "execution_count": 0,
      "outputs": [
        {
          "output_type": "stream",
          "text": [
            "0  is represented as :   [1. 0. 0. 0. 0. 0. 0. 0. 0. 0.]\n",
            "1  is represented as :   [0. 1. 0. 0. 0. 0. 0. 0. 0. 0.]\n",
            "2  is represented as :   [0. 0. 1. 0. 0. 0. 0. 0. 0. 0.]\n",
            "3  is represented as :   [0. 0. 0. 1. 0. 0. 0. 0. 0. 0.]\n",
            "4  is represented as :   [0. 0. 0. 0. 1. 0. 0. 0. 0. 0.]\n",
            "5  is represented as :   [0. 0. 0. 0. 0. 1. 0. 0. 0. 0.]\n",
            "6  is represented as :   [0. 0. 0. 0. 0. 0. 1. 0. 0. 0.]\n",
            "7  is represented as :   [0. 0. 0. 0. 0. 0. 0. 1. 0. 0.]\n",
            "8  is represented as :   [0. 0. 0. 0. 0. 0. 0. 0. 1. 0.]\n",
            "9  is represented as :   [0. 0. 0. 0. 0. 0. 0. 0. 0. 1.]\n"
          ],
          "name": "stdout"
        }
      ]
    },
    {
      "cell_type": "code",
      "metadata": {
        "id": "m691C7Z_NErl",
        "colab_type": "code",
        "colab": {}
      },
      "source": [
        "y_train_encoded=one_hot_vectors[y_train]\n",
        "y_test_encoded=one_hot_vectors[y_test]\n"
      ],
      "execution_count": 0,
      "outputs": []
    },
    {
      "cell_type": "markdown",
      "metadata": {
        "id": "wS7lPzZlc_sn",
        "colab_type": "text"
      },
      "source": [
        "## Explore the processed data\n",
        "\n",
        "### Let's plot an image to see what it looks like."
      ]
    },
    {
      "cell_type": "code",
      "metadata": {
        "id": "pvYSmM2nag01",
        "colab_type": "code",
        "outputId": "58418135-a3e8-4031-b914-08c84b430797",
        "colab": {
          "base_uri": "https://localhost:8080/",
          "height": 283
        }
      },
      "source": [
        "# Take a single image, \n",
        "index=np.random.randint(0,len(x_train))\n",
        "image = x_train[index].reshape(28,28)\n",
        "label=class_names[y_train[index]]\n",
        "# Plot the image \n",
        "plt.xlabel(label)\n",
        "plt.imshow(image)\n",
        "plt.show()"
      ],
      "execution_count": 0,
      "outputs": [
        {
          "output_type": "display_data",
          "data": {
            "image/png": "[encoded data removed]",
            "text/plain": [
              "<Figure size 432x288 with 1 Axes>"
            ]
          },
          "metadata": {
            "tags": []
          }
        }
      ]
    },
    {
      "cell_type": "markdown",
      "metadata": {
        "id": "PaX28Mdrcz8P",
        "colab_type": "text"
      },
      "source": [
        "### Display the random 25 images from the training set and display the label name below each image. "
      ]
    },
    {
      "cell_type": "code",
      "metadata": {
        "id": "oLowAbD5a_4e",
        "colab_type": "code",
        "outputId": "4e6480e1-95d6-4fd5-b89d-426b56be90d6",
        "colab": {
          "base_uri": "https://localhost:8080/",
          "height": 592
        }
      },
      "source": [
        "plt.figure(figsize=(10,10))\n",
        "i = 0\n",
        "for each in range(25):\n",
        "  index=np.random.randint(0,len(x_train))\n",
        "  \n",
        "  image = x_train[index].reshape(28,28)\n",
        "  label=class_names[y_train[index]]\n",
        "  plt.subplot(5,5,i+1)\n",
        "  plt.xticks([])\n",
        "  plt.yticks([])\n",
        "  plt.imshow(image)\n",
        "  plt.xlabel(label)\n",
        "  i += 1\n",
        "plt.show()"
      ],
      "execution_count": 0,
      "outputs": [
        {
          "output_type": "display_data",
          "data": {
            "image/png": "[encoded data removed]",
            "text/plain": [
              "<Figure size 720x720 with 25 Axes>"
            ]
          },
          "metadata": {
            "tags": []
          }
        }
      ]
    },
    {
      "cell_type": "markdown",
      "metadata": {
        "id": "aDKBofPVgaAQ",
        "colab_type": "text"
      },
      "source": [
        "## Build the model\n",
        "## ***With Tensorflow***"
      ]
    },
    {
      "cell_type": "markdown",
      "metadata": {
        "id": "rd2OiS1dhtAa",
        "colab_type": "text"
      },
      "source": [
        "TensorFlow is a open source Python library for fast numerical computing created and released by by the Google Brain team.\n",
        "It is a foundation library that can be used to create Deep Learning models directly or by using wrapper libraries that simplify the process built on top of TensorFlow."
      ]
    },
    {
      "cell_type": "markdown",
      "metadata": {
        "id": "wbwl8qlKhsyz",
        "colab_type": "text"
      },
      "source": [
        "## ***Tensor***\n",
        "It is just a multi-dimensional array"
      ]
    },
    {
      "cell_type": "markdown",
      "metadata": {
        "id": "zQtDKPIgn7Fv",
        "colab_type": "text"
      },
      "source": [
        "## Tensorflow works on \"LAZY EVALUATION\"\n",
        "This means that first we have to set up the entire pipeline before feeding the data. \n",
        "Decide the architecture. \n",
        "Number of neuron in the Input and Output Layer.\n",
        "Number of hidden layers and how many neurons in each of them.\n",
        "Initialise the weights and set the activation function in each layer, cost function, optimisation algorithm and all necessary details of the neural network.\n",
        "After designing the architecture, we then will train our neural network model by feeding the data in correct format and then use that model to do the required task.\n",
        "\n",
        "\n",
        "\n",
        "\n"
      ]
    },
    {
      "cell_type": "code",
      "metadata": {
        "id": "ww-jzjOscYYp",
        "colab_type": "code",
        "colab": {}
      },
      "source": [
        "import tensorflow as tf"
      ],
      "execution_count": 0,
      "outputs": []
    },
    {
      "cell_type": "markdown",
      "metadata": {
        "id": "6GCTjlCA0b8R",
        "colab_type": "text"
      },
      "source": [
        "In tensorflow NN, we have 3 rooms:\n",
        "\n",
        "\n",
        "1.  For Variables\n",
        "2.  For Placeholders\n",
        "3.  For training\n",
        "## **1.Variables:** \n",
        "The values of **Weights and bias** in the NN are varies in the training process(gradient descent) to get those perfect values for which loss is minimum. So these are placed in the **Tensorflow Variables**.\n",
        "\n",
        "Variables are manipulated via the tf.Variable class. A tf.Variable represents a tensor whose value can be changed by running operations on it.Internally, a tf.Variable stores a persistent tensor. Specific operations allow you to read and modify the values of this tensor. These modifications are visible across multiple tf.Sessions, so multiple workers can see the same values for a tf.Variable."
      ]
    },
    {
      "cell_type": "markdown",
      "metadata": {
        "id": "UF-z2Fic1bgh",
        "colab_type": "text"
      },
      "source": [
        "## 2. Placeholder:\n",
        "The **data** that is feeded into the neural network remains intact during entire training. So they are called as Constants or **Placeholders**(in tensorflow)\n",
        "\n",
        "Placeholders are used to feed external data into a TensorFlow graph. It allows a value to be assigned later i.e. a place in the memory where we'll store a value later on. To define a Placeholder we use tf.placeholder() command.\n",
        "\n",
        "## *Before everything, we have to tell what will be our variables and placeholders, what will be their shapes and all.*"
      ]
    },
    {
      "cell_type": "markdown",
      "metadata": {
        "id": "bjX8ddTfR5lO",
        "colab_type": "text"
      },
      "source": [
        "## Creating Placeholders\n",
        "we are putting **None** as the number of rows so that later we can use any batch size for the gradient descent"
      ]
    },
    {
      "cell_type": "code",
      "metadata": {
        "id": "t87JZ_9SQuZg",
        "colab_type": "code",
        "colab": {}
      },
      "source": [
        "num_of_features=784\n",
        "\n",
        "x_PH=tf.placeholder(dtype=tf.float64,shape=[None,num_of_features])\n",
        "\n",
        "y_PH=tf.placeholder(dtype=tf.float64,shape=[None,10])"
      ],
      "execution_count": 0,
      "outputs": []
    },
    {
      "cell_type": "markdown",
      "metadata": {
        "id": "wT0n10ZSXPZO",
        "colab_type": "text"
      },
      "source": [
        "## Creating Variables\n",
        "\n",
        "We have \n",
        "\n",
        "*   **one input layer with 784 neurons**\n",
        "*   **one hidden layer with 512 neurons**\n",
        "*   **second hidden layer with 256 neurons**\n",
        "*   **third hidden layer with 32 neurons**\n",
        "*   **one output layer with 10 neurons**\n"
      ]
    },
    {
      "cell_type": "code",
      "metadata": {
        "id": "CxuAYDisREAf",
        "colab_type": "code",
        "colab": {}
      },
      "source": [
        "# Making Tensorflow Variables for Slopes(Weights) & intercepts(Bias)\n",
        "\n",
        "input_neuron_num=784\n",
        "hidden1_neuron_num=512\n",
        "hidden2_neuron_num=256\n",
        "hidden3_neuron_num=32\n",
        "#hidden4_neuron_num=784\n",
        "output_neuron_num=10\n",
        "\n",
        "# FOR Weights and Bias Between Input Layer and first Hidden layer\n",
        "weight_IH1 = np.random.randn(input_neuron_num,hidden1_neuron_num)\n",
        "weight_IH1 = tf.Variable(weight_IH1)\n",
        "bias_IH1 = random.random()\n",
        "bias_IH1 = tf.cast(bias_IH1, tf.float64) # Since C values are float32 , and tensors accept only float 64, we're converting all c values to float64\n",
        "bias_IH1 = tf.Variable(bias_IH1)\n",
        "\n",
        "\n",
        "# FOR Weights and Bias Between first Hidden layer and second hidden Layer \n",
        "weight_H1H2 = np.random.randn(hidden1_neuron_num,hidden2_neuron_num)\n",
        "weight_H1H2 = tf.Variable(weight_H1H2)\n",
        "bias_H1H2 = random.random()\n",
        "bias_H1H2 = tf.cast(bias_H1H2, tf.float64) \n",
        "bias_H1H2 = tf.Variable(bias_H1H2)\n",
        "\n",
        "# FOR Weights and Bias Between second Hidden layer and third hidden Layer \n",
        "weight_H2H3 = np.random.randn(hidden2_neuron_num,hidden3_neuron_num)\n",
        "weight_H2H3 = tf.Variable(weight_H2H3)\n",
        "bias_H2H3 = random.random()\n",
        "bias_H2H3 = tf.cast(bias_H2H3, tf.float64) \n",
        "bias_H2H3 = tf.Variable(bias_H2H3)\n",
        "\n",
        "\n",
        "# FOR Weights and Bias Between third Hidden layer and final output Layer \n",
        "weight_H3O = np.random.randn(hidden3_neuron_num,output_neuron_num)\n",
        "weight_H3O = tf.Variable(weight_H3O)\n",
        "bias_H3O = random.random()\n",
        "bias_H3O = tf.cast(bias_H3O, tf.float64) \n",
        "bias_H3O = tf.Variable(bias_H3O)"
      ],
      "execution_count": 0,
      "outputs": []
    },
    {
      "cell_type": "markdown",
      "metadata": {
        "id": "baB-GbIf1Qre",
        "colab_type": "text"
      },
      "source": [
        "## Defining the layers"
      ]
    },
    {
      "cell_type": "code",
      "metadata": {
        "id": "FqyfJ-E-a7rU",
        "colab_type": "code",
        "colab": {}
      },
      "source": [
        "L1Out = tf.matmul(x_PH, weight_IH1)+bias_IH1    # Liout = x_PH * weight_IH1 + bias_IH1 \n",
        "L1Out= tf.nn.relu(L1Out)                        # applying Relu Activation Fucntion\n",
        "\n",
        "L2Out = tf.matmul(L1Out, weight_H1H2)+bias_H1H2 # L2out= L1Out * weight_H1H2 + bias_H1H2\n",
        "L2Out= tf.nn.relu(L2Out)                        # applying Relu Activation Fucntion\n",
        "\n",
        "\n",
        "L3Out = tf.matmul(L2Out, weight_H2H3)+bias_H2H3 \n",
        "L3Out= tf.nn.relu(L3Out)   \n",
        "\n",
        "'''\n",
        "L4Out = tf.matmul(L3Out, weight_H3H4)+bias_H3H4 \n",
        "L4Out= tf.nn.relu(L4Out)   \n",
        "'''\n",
        "\n",
        "L4Out = tf.matmul(L3Out, weight_H3O)+bias_H3O   # L4out= L3Out * weight_H3O + bias_H3O\n",
        "y_output=tf.nn.softmax(L4Out)                   # applying Softmax Activation Fucntion"
      ],
      "execution_count": 0,
      "outputs": []
    },
    {
      "cell_type": "markdown",
      "metadata": {
        "id": "AA275U3r1gRo",
        "colab_type": "text"
      },
      "source": [
        "## Defining the cost function (Mean Squared Error) and selecting the optimisation algorithm"
      ]
    },
    {
      "cell_type": "code",
      "metadata": {
        "colab_type": "code",
        "id": "Xj5-rK1b1dxO",
        "colab": {}
      },
      "source": [
        "cost = tf.reduce_mean(0.5*(y_output - y_PH)**2)\n",
        "\n",
        "optimizer = tf.train.AdamOptimizer()   #Setting up Adam optimizer"
      ],
      "execution_count": 0,
      "outputs": []
    },
    {
      "cell_type": "code",
      "metadata": {
        "id": "u7tJrYIsb3bc",
        "colab_type": "code",
        "colab": {}
      },
      "source": [
        "minimizer = optimizer.minimize(cost)  # Minimising cost by setting up cost inside optimizer"
      ],
      "execution_count": 0,
      "outputs": []
    },
    {
      "cell_type": "markdown",
      "metadata": {
        "id": "AopnwFP917Vp",
        "colab_type": "text"
      },
      "source": [
        "## This code will initialise all global variables\n",
        "\n",
        " tf.global_variables_initializer()  returns global variables. Global variables are variables that are shared across machines in a distributed environment"
      ]
    },
    {
      "cell_type": "code",
      "metadata": {
        "id": "gz0gVc_913zJ",
        "colab_type": "code",
        "colab": {}
      },
      "source": [
        "initialisation = tf.global_variables_initializer()"
      ],
      "execution_count": 0,
      "outputs": []
    },
    {
      "cell_type": "markdown",
      "metadata": {
        "id": "qXSE70PQ2Fec",
        "colab_type": "text"
      },
      "source": [
        "## tf.Session is a class for running TensorFlow operations.\n",
        "A Session object encapsulates the environment in which Operation objects are executed, and Tensor objects are evaluated\n"
      ]
    },
    {
      "cell_type": "code",
      "metadata": {
        "id": "szBqVOvX2E1U",
        "colab_type": "code",
        "colab": {}
      },
      "source": [
        "\n",
        "session = tf.Session()\n"
      ],
      "execution_count": 0,
      "outputs": []
    },
    {
      "cell_type": "code",
      "metadata": {
        "id": "v7iUGbvrb49d",
        "colab_type": "code",
        "colab": {}
      },
      "source": [
        "session.run(initialisation)"
      ],
      "execution_count": 0,
      "outputs": []
    },
    {
      "cell_type": "markdown",
      "metadata": {
        "id": "zZQhZaB65l-A",
        "colab_type": "text"
      },
      "source": [
        " \n",
        " ## feed_dict is a dictionary used to feed values to TensorFlow placeholders "
      ]
    },
    {
      "cell_type": "code",
      "metadata": {
        "id": "_TJYLzUnb9as",
        "colab_type": "code",
        "colab": {}
      },
      "source": [
        "\n",
        "training_feedDict = {x_PH : np.array(x_train),y_PH : np.array(y_train_encoded)}   \n",
        "testing_feedDict = {x_PH : np.array(x_test),y_PH : np.array(y_test_encoded)}"
      ],
      "execution_count": 0,
      "outputs": []
    },
    {
      "cell_type": "markdown",
      "metadata": {
        "id": "F-73WD3s5zA_",
        "colab_type": "text"
      },
      "source": [
        "## Defining method to calculate accuracy"
      ]
    },
    {
      "cell_type": "code",
      "metadata": {
        "id": "ZAXhTOI1o7cX",
        "colab_type": "code",
        "colab": {}
      },
      "source": [
        "def accuracy(prediction,y):   \n",
        "  prediction=np.argmax(prediction,axis=1)\n",
        "  y=np.argmax(y,axis=1)\n",
        "  return (len(y[prediction==y])/len(y))*100"
      ],
      "execution_count": 0,
      "outputs": []
    },
    {
      "cell_type": "markdown",
      "metadata": {
        "id": "--UPNi57542Q",
        "colab_type": "text"
      },
      "source": [
        "## This is the code where actual training of NN is taking  place"
      ]
    },
    {
      "cell_type": "code",
      "metadata": {
        "id": "O7V9qPmucGiE",
        "colab_type": "code",
        "outputId": "dcb44957-45c0-4b4e-e2e8-96299d77dfb0",
        "colab": {
          "base_uri": "https://localhost:8080/",
          "height": 337
        }
      },
      "source": [
        "#  trweaining NN\n",
        "\n",
        "epochs = 2000\n",
        "error = []\n",
        "for epoch in range(epochs):  \n",
        "  session.run(minimizer, feed_dict = training_feedDict)\n",
        "  error.append(session.run(cost,feed_dict = training_feedDict))\n",
        "\n",
        "  clear_output(True)\n",
        "  print(\"Epoch  : \",epoch,\"      error :\",session.run(cost,feed_dict = training_feedDict))\n",
        "  print(\"accuracy on training data : \",accuracy(session.run(y_output,feed_dict = training_feedDict),y_train_encoded))\n",
        "  print(\"accuracy on testing data  : \",accuracy(session.run(y_output,feed_dict = testing_feedDict),y_test_encoded))\n",
        "clear_output(True)\n",
        "plt.plot(error)\n",
        "print(\"**************RESULTS****************\")\n",
        "print(\"Error                      :  {0:.2f} %\".format(session.run(cost,feed_dict = training_feedDict)))\n",
        "print(\"accuracy on training data  : {0:.2f} %\".format(accuracy(session.run(y_output,feed_dict = training_feedDict),y_train_encoded)))\n",
        "print(\"accuracy on testing data   : {0:.2f} %\".format(accuracy(session.run(y_output,feed_dict = testing_feedDict),y_test_encoded)))"
      ],
      "execution_count": 0,
      "outputs": [
        {
          "output_type": "stream",
          "text": [
            "**************RESULTS****************\n",
            "Error                      :  0.06 %\n",
            "accuracy on training data  : 44.88 %\n",
            "accuracy on testing data   : 44.05 %\n"
          ],
          "name": "stdout"
        },
        {
          "output_type": "display_data",
          "data": {
            "image/png": "[encoded data removed]",
            "text/plain": [
              "<Figure size 432x288 with 1 Axes>"
            ]
          },
          "metadata": {
            "tags": []
          }
        }
      ]
    },
    {
      "cell_type": "code",
      "metadata": {
        "id": "-efdEgwJ_TSk",
        "colab_type": "code",
        "colab": {}
      },
      "source": [
        ""
      ],
      "execution_count": 0,
      "outputs": []
    }
  ]
}